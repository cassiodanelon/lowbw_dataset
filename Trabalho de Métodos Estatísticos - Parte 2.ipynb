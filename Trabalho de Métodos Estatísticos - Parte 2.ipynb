{
 "cells": [
  {
   "cell_type": "code",
   "execution_count": 1,
   "metadata": {},
   "outputs": [],
   "source": [
    "#########################################################################################################\n",
    "#                                  Trabalho Final de Métodos Estatísticos\n",
    "#########################################################################################################\n",
    "\n",
    "# Aluno: Cássio Danelon de Almeida\n",
    "# Professores: Henrique Hippert\n",
    "#              Eliane Christo"
   ]
  },
  {
   "cell_type": "code",
   "execution_count": 2,
   "metadata": {},
   "outputs": [],
   "source": [
    "import numpy as np\n",
    "import pandas as pd\n",
    "import seaborn as sns\n",
    "import statsmodels.api as sm\n",
    "import matplotlib.pyplot as plt\n",
    "from statsmodels.stats.weightstats import ztest\n",
    "from scipy.stats import shapiro, kstest, chisquare, linregress, f_oneway, ttest_ind, chi2_contingency, levene\n",
    "%matplotlib inline"
   ]
  },
  {
   "cell_type": "code",
   "execution_count": 3,
   "metadata": {},
   "outputs": [
    {
     "data": {
      "text/html": [
       "<div>\n",
       "<style scoped>\n",
       "    .dataframe tbody tr th:only-of-type {\n",
       "        vertical-align: middle;\n",
       "    }\n",
       "\n",
       "    .dataframe tbody tr th {\n",
       "        vertical-align: top;\n",
       "    }\n",
       "\n",
       "    .dataframe thead th {\n",
       "        text-align: right;\n",
       "    }\n",
       "</style>\n",
       "<table border=\"1\" class=\"dataframe\">\n",
       "  <thead>\n",
       "    <tr style=\"text-align: right;\">\n",
       "      <th></th>\n",
       "      <th>id</th>\n",
       "      <th>low</th>\n",
       "      <th>age</th>\n",
       "      <th>lwt</th>\n",
       "      <th>race</th>\n",
       "      <th>smoke</th>\n",
       "      <th>ptl</th>\n",
       "      <th>ht</th>\n",
       "      <th>ui</th>\n",
       "      <th>ftv</th>\n",
       "      <th>bwt</th>\n",
       "    </tr>\n",
       "  </thead>\n",
       "  <tbody>\n",
       "    <tr>\n",
       "      <th>0</th>\n",
       "      <td>85</td>\n",
       "      <td>Normal</td>\n",
       "      <td>19</td>\n",
       "      <td>182</td>\n",
       "      <td>Black</td>\n",
       "      <td>No</td>\n",
       "      <td>0</td>\n",
       "      <td>0</td>\n",
       "      <td>1</td>\n",
       "      <td>0</td>\n",
       "      <td>2523</td>\n",
       "    </tr>\n",
       "    <tr>\n",
       "      <th>1</th>\n",
       "      <td>86</td>\n",
       "      <td>Normal</td>\n",
       "      <td>33</td>\n",
       "      <td>155</td>\n",
       "      <td>Other</td>\n",
       "      <td>No</td>\n",
       "      <td>0</td>\n",
       "      <td>0</td>\n",
       "      <td>0</td>\n",
       "      <td>3</td>\n",
       "      <td>2551</td>\n",
       "    </tr>\n",
       "    <tr>\n",
       "      <th>2</th>\n",
       "      <td>87</td>\n",
       "      <td>Normal</td>\n",
       "      <td>20</td>\n",
       "      <td>105</td>\n",
       "      <td>White</td>\n",
       "      <td>Yes</td>\n",
       "      <td>0</td>\n",
       "      <td>0</td>\n",
       "      <td>0</td>\n",
       "      <td>1</td>\n",
       "      <td>2557</td>\n",
       "    </tr>\n",
       "    <tr>\n",
       "      <th>3</th>\n",
       "      <td>88</td>\n",
       "      <td>Normal</td>\n",
       "      <td>21</td>\n",
       "      <td>108</td>\n",
       "      <td>White</td>\n",
       "      <td>Yes</td>\n",
       "      <td>0</td>\n",
       "      <td>0</td>\n",
       "      <td>1</td>\n",
       "      <td>2</td>\n",
       "      <td>2594</td>\n",
       "    </tr>\n",
       "    <tr>\n",
       "      <th>4</th>\n",
       "      <td>89</td>\n",
       "      <td>Normal</td>\n",
       "      <td>18</td>\n",
       "      <td>107</td>\n",
       "      <td>White</td>\n",
       "      <td>Yes</td>\n",
       "      <td>0</td>\n",
       "      <td>0</td>\n",
       "      <td>1</td>\n",
       "      <td>0</td>\n",
       "      <td>2600</td>\n",
       "    </tr>\n",
       "  </tbody>\n",
       "</table>\n",
       "</div>"
      ],
      "text/plain": [
       "   id     low  age  lwt   race smoke  ptl  ht  ui  ftv   bwt\n",
       "0  85  Normal   19  182  Black    No    0   0   1    0  2523\n",
       "1  86  Normal   33  155  Other    No    0   0   0    3  2551\n",
       "2  87  Normal   20  105  White   Yes    0   0   0    1  2557\n",
       "3  88  Normal   21  108  White   Yes    0   0   1    2  2594\n",
       "4  89  Normal   18  107  White   Yes    0   0   1    0  2600"
      ]
     },
     "execution_count": 3,
     "metadata": {},
     "output_type": "execute_result"
    }
   ],
   "source": [
    "lowbw = pd.read_table(\"lowbw.txt\",delim_whitespace=True)\n",
    "lowbw.head()"
   ]
  },
  {
   "cell_type": "code",
   "execution_count": 4,
   "metadata": {},
   "outputs": [
    {
     "name": "stdout",
     "output_type": "stream",
     "text": [
      "<class 'pandas.core.frame.DataFrame'>\n",
      "RangeIndex: 189 entries, 0 to 188\n",
      "Data columns (total 11 columns):\n",
      "id       189 non-null int64\n",
      "low      189 non-null object\n",
      "age      189 non-null int64\n",
      "lwt      189 non-null int64\n",
      "race     189 non-null object\n",
      "smoke    189 non-null object\n",
      "ptl      189 non-null int64\n",
      "ht       189 non-null int64\n",
      "ui       189 non-null int64\n",
      "ftv      189 non-null int64\n",
      "bwt      189 non-null int64\n",
      "dtypes: int64(8), object(3)\n",
      "memory usage: 16.3+ KB\n"
     ]
    }
   ],
   "source": [
    "lowbw.info()"
   ]
  },
  {
   "cell_type": "code",
   "execution_count": 5,
   "metadata": {},
   "outputs": [
    {
     "data": {
      "text/html": [
       "<div>\n",
       "<style scoped>\n",
       "    .dataframe tbody tr th:only-of-type {\n",
       "        vertical-align: middle;\n",
       "    }\n",
       "\n",
       "    .dataframe tbody tr th {\n",
       "        vertical-align: top;\n",
       "    }\n",
       "\n",
       "    .dataframe thead th {\n",
       "        text-align: right;\n",
       "    }\n",
       "</style>\n",
       "<table border=\"1\" class=\"dataframe\">\n",
       "  <thead>\n",
       "    <tr style=\"text-align: right;\">\n",
       "      <th></th>\n",
       "      <th>id</th>\n",
       "      <th>age</th>\n",
       "      <th>lwt</th>\n",
       "      <th>ptl</th>\n",
       "      <th>ht</th>\n",
       "      <th>ui</th>\n",
       "      <th>ftv</th>\n",
       "      <th>bwt</th>\n",
       "    </tr>\n",
       "  </thead>\n",
       "  <tbody>\n",
       "    <tr>\n",
       "      <th>count</th>\n",
       "      <td>189.000000</td>\n",
       "      <td>189.000000</td>\n",
       "      <td>189.000000</td>\n",
       "      <td>189.000000</td>\n",
       "      <td>189.000000</td>\n",
       "      <td>189.000000</td>\n",
       "      <td>189.000000</td>\n",
       "      <td>189.000000</td>\n",
       "    </tr>\n",
       "    <tr>\n",
       "      <th>mean</th>\n",
       "      <td>121.079365</td>\n",
       "      <td>23.238095</td>\n",
       "      <td>129.814815</td>\n",
       "      <td>0.195767</td>\n",
       "      <td>0.063492</td>\n",
       "      <td>0.148148</td>\n",
       "      <td>0.793651</td>\n",
       "      <td>2944.656085</td>\n",
       "    </tr>\n",
       "    <tr>\n",
       "      <th>std</th>\n",
       "      <td>63.303634</td>\n",
       "      <td>5.298678</td>\n",
       "      <td>30.579380</td>\n",
       "      <td>0.493342</td>\n",
       "      <td>0.244494</td>\n",
       "      <td>0.356190</td>\n",
       "      <td>1.059286</td>\n",
       "      <td>729.022417</td>\n",
       "    </tr>\n",
       "    <tr>\n",
       "      <th>min</th>\n",
       "      <td>4.000000</td>\n",
       "      <td>14.000000</td>\n",
       "      <td>80.000000</td>\n",
       "      <td>0.000000</td>\n",
       "      <td>0.000000</td>\n",
       "      <td>0.000000</td>\n",
       "      <td>0.000000</td>\n",
       "      <td>709.000000</td>\n",
       "    </tr>\n",
       "    <tr>\n",
       "      <th>25%</th>\n",
       "      <td>68.000000</td>\n",
       "      <td>19.000000</td>\n",
       "      <td>110.000000</td>\n",
       "      <td>0.000000</td>\n",
       "      <td>0.000000</td>\n",
       "      <td>0.000000</td>\n",
       "      <td>0.000000</td>\n",
       "      <td>2414.000000</td>\n",
       "    </tr>\n",
       "    <tr>\n",
       "      <th>50%</th>\n",
       "      <td>123.000000</td>\n",
       "      <td>23.000000</td>\n",
       "      <td>121.000000</td>\n",
       "      <td>0.000000</td>\n",
       "      <td>0.000000</td>\n",
       "      <td>0.000000</td>\n",
       "      <td>0.000000</td>\n",
       "      <td>2977.000000</td>\n",
       "    </tr>\n",
       "    <tr>\n",
       "      <th>75%</th>\n",
       "      <td>176.000000</td>\n",
       "      <td>26.000000</td>\n",
       "      <td>140.000000</td>\n",
       "      <td>0.000000</td>\n",
       "      <td>0.000000</td>\n",
       "      <td>0.000000</td>\n",
       "      <td>1.000000</td>\n",
       "      <td>3475.000000</td>\n",
       "    </tr>\n",
       "    <tr>\n",
       "      <th>max</th>\n",
       "      <td>226.000000</td>\n",
       "      <td>45.000000</td>\n",
       "      <td>250.000000</td>\n",
       "      <td>3.000000</td>\n",
       "      <td>1.000000</td>\n",
       "      <td>1.000000</td>\n",
       "      <td>6.000000</td>\n",
       "      <td>4990.000000</td>\n",
       "    </tr>\n",
       "  </tbody>\n",
       "</table>\n",
       "</div>"
      ],
      "text/plain": [
       "               id         age         lwt         ptl          ht          ui  \\\n",
       "count  189.000000  189.000000  189.000000  189.000000  189.000000  189.000000   \n",
       "mean   121.079365   23.238095  129.814815    0.195767    0.063492    0.148148   \n",
       "std     63.303634    5.298678   30.579380    0.493342    0.244494    0.356190   \n",
       "min      4.000000   14.000000   80.000000    0.000000    0.000000    0.000000   \n",
       "25%     68.000000   19.000000  110.000000    0.000000    0.000000    0.000000   \n",
       "50%    123.000000   23.000000  121.000000    0.000000    0.000000    0.000000   \n",
       "75%    176.000000   26.000000  140.000000    0.000000    0.000000    0.000000   \n",
       "max    226.000000   45.000000  250.000000    3.000000    1.000000    1.000000   \n",
       "\n",
       "              ftv          bwt  \n",
       "count  189.000000   189.000000  \n",
       "mean     0.793651  2944.656085  \n",
       "std      1.059286   729.022417  \n",
       "min      0.000000   709.000000  \n",
       "25%      0.000000  2414.000000  \n",
       "50%      0.000000  2977.000000  \n",
       "75%      1.000000  3475.000000  \n",
       "max      6.000000  4990.000000  "
      ]
     },
     "execution_count": 5,
     "metadata": {},
     "output_type": "execute_result"
    }
   ],
   "source": [
    "lowbw.describe()"
   ]
  },
  {
   "cell_type": "code",
   "execution_count": 6,
   "metadata": {},
   "outputs": [
    {
     "name": "stdout",
     "output_type": "stream",
     "text": [
      "0    159\n",
      "1     24\n",
      "2      5\n",
      "3      1\n",
      "Name: ptl, dtype: int64\n"
     ]
    },
    {
     "data": {
      "text/plain": [
       "Text(0.5,0,'plt')"
      ]
     },
     "execution_count": 6,
     "metadata": {},
     "output_type": "execute_result"
    },
    {
     "data": {
      "image/png": "[encoded data removed]",
      "text/plain": [
       "<Figure size 432x288 with 1 Axes>"
      ]
     },
     "metadata": {},
     "output_type": "display_data"
    }
   ],
   "source": [
    "# 2.2.1 Descrição e Modelagem dos dados\n",
    "\n",
    "# 1)\n",
    "#ptl\n",
    "print(lowbw['ptl'].value_counts())\n",
    "plt.hist(lowbw['ptl'])\n",
    "plt.xlabel('plt')"
   ]
  },
  {
   "cell_type": "code",
   "execution_count": 7,
   "metadata": {},
   "outputs": [
    {
     "name": "stdout",
     "output_type": "stream",
     "text": [
      "0    100\n",
      "1     47\n",
      "2     30\n",
      "3      7\n",
      "4      4\n",
      "6      1\n",
      "Name: ftv, dtype: int64\n"
     ]
    },
    {
     "name": "stderr",
     "output_type": "stream",
     "text": [
      "C:\\ProgramData\\Anaconda3\\lib\\site-packages\\matplotlib\\axes\\_axes.py:6462: UserWarning: The 'normed' kwarg is deprecated, and has been replaced by the 'density' kwarg.\n",
      "  warnings.warn(\"The 'normed' kwarg is deprecated, and has been \"\n"
     ]
    },
    {
     "data": {
      "text/plain": [
       "<matplotlib.axes._subplots.AxesSubplot at 0x214b90f8d68>"
      ]
     },
     "execution_count": 7,
     "metadata": {},
     "output_type": "execute_result"
    },
    {
     "data": {
      "image/png": "[encoded data removed]",
      "text/plain": [
       "<Figure size 432x288 with 1 Axes>"
      ]
     },
     "metadata": {},
     "output_type": "display_data"
    }
   ],
   "source": [
    "#ftv\n",
    "print(lowbw['ftv'].value_counts())\n",
    "sns.distplot(lowbw['ftv'])"
   ]
  },
  {
   "cell_type": "code",
   "execution_count": 8,
   "metadata": {},
   "outputs": [
    {
     "data": {
      "text/plain": [
       "Text(0.5,0,'ftv')"
      ]
     },
     "execution_count": 8,
     "metadata": {},
     "output_type": "execute_result"
    },
    {
     "data": {
      "image/png": "[encoded data removed]",
      "text/plain": [
       "<Figure size 432x288 with 1 Axes>"
      ]
     },
     "metadata": {},
     "output_type": "display_data"
    }
   ],
   "source": [
    "#ftv\n",
    "plt.hist(lowbw['ftv'])\n",
    "plt.xlabel('ftv')"
   ]
  },
  {
   "cell_type": "code",
   "execution_count": 9,
   "metadata": {},
   "outputs": [
    {
     "name": "stdout",
     "output_type": "stream",
     "text": [
      "Valor de Q computacional: 6.1529283824288115\n",
      "P-valor 0.1044023988938132>0.05 Nao rejeita hipotese nula!\n"
     ]
    },
    {
     "data": {
      "text/plain": [
       "<matplotlib.legend.Legend at 0x214b99e4668>"
      ]
     },
     "execution_count": 9,
     "metadata": {},
     "output_type": "execute_result"
    },
    {
     "data": {
      "image/png": "[encoded data removed]",
      "text/plain": [
       "<Figure size 432x288 with 1 Axes>"
      ]
     },
     "metadata": {},
     "output_type": "display_data"
    }
   ],
   "source": [
    "#2) Ajuste pelo modelo de Poisson\n",
    "\n",
    "#Variável ptl\n",
    "\n",
    "#frequencias observadas\n",
    "o = np.array([159,24,5,1])\n",
    "\n",
    "mu = (159*0+24*1+5*2+1*3)/189\n",
    "\n",
    "#calculo do fatorial a ser utilizado na formula de Poisson\n",
    "def fatorial(x):\n",
    "    if(x==0 or x==1):\n",
    "        return 1\n",
    "    else:       \n",
    "        return x*fatorial(x-1)\n",
    "    \n",
    "#frequencias esperadas    \n",
    "poisson = np.zeros(len(o))\n",
    "for i in range(len(o)):\n",
    "    poisson[i] = (np.exp(-mu)*mu**i)/fatorial(i)\n",
    "e = 189*poisson \n",
    "\n",
    "#Teste Qui-Quadrado\n",
    "Chi = chisquare(o,e,axis=None)\n",
    "print(\"Valor de Q computacional: {}\".format(Chi[0]))\n",
    "  \n",
    "if(Chi[1]<0.05): \n",
    "    print(\"Rejeita-se Hipotese Nula\")\n",
    "else:\n",
    "    print(\"P-valor {}>0.05 Nao rejeita hipotese nula!\".format(Chi[1]))\n",
    "    \n",
    "z = np.linspace(0,3,4)\n",
    "plt.plot(z,o,label='Frequências Observadas')\n",
    "plt.plot(z,e,label='Modelo de Poisson')\n",
    "plt.xlabel('plt')\n",
    "plt.legend(loc='best')  "
   ]
  },
  {
   "cell_type": "code",
   "execution_count": 10,
   "metadata": {},
   "outputs": [
    {
     "data": {
      "text/plain": [
       "<matplotlib.legend.Legend at 0x214b99be5f8>"
      ]
     },
     "execution_count": 10,
     "metadata": {},
     "output_type": "execute_result"
    },
    {
     "data": {
      "image/png": "[encoded data removed]",
      "text/plain": [
       "<Figure size 432x288 with 1 Axes>"
      ]
     },
     "metadata": {},
     "output_type": "display_data"
    }
   ],
   "source": [
    "plt.bar(z,e,label='Poisson')\n",
    "plt.xlabel('plt')\n",
    "plt.legend(loc='best')"
   ]
  },
  {
   "cell_type": "code",
   "execution_count": 55,
   "metadata": {},
   "outputs": [
    {
     "name": "stdout",
     "output_type": "stream",
     "text": [
      "Valor de Q computacional: 16.644679391243898\n",
      "Valor de p-valor: 0.005225380766264197\n",
      "Rejeita-se Hipotese Nula\n"
     ]
    },
    {
     "data": {
      "text/plain": [
       "<matplotlib.legend.Legend at 0x214bb354c18>"
      ]
     },
     "execution_count": 55,
     "metadata": {},
     "output_type": "execute_result"
    },
    {
     "data": {
      "image/png": "[encoded data removed]",
      "text/plain": [
       "<Figure size 432x288 with 1 Axes>"
      ]
     },
     "metadata": {},
     "output_type": "display_data"
    }
   ],
   "source": [
    "#Variável ftv\n",
    "\n",
    "#frequencias observadas\n",
    "o = np.array([100,47,30,7,4,1])\n",
    "\n",
    "mu = (100*0+47*1+30*2+7*3+4*4+1*6)/189\n",
    "\n",
    "#calculo do fatorial a ser utilizado na formula de Poisson\n",
    "def fatorial(x):\n",
    "    if(x==0 or x==1):\n",
    "        return 1\n",
    "    else:       \n",
    "        return x*fatorial(x-1)\n",
    "    \n",
    "#frequencias esperadas    \n",
    "poisson = np.zeros(len(o))\n",
    "for i in range(len(o)):\n",
    "    poisson[i] = (np.exp(-mu)*mu**i)/fatorial(i)\n",
    "e = 189*poisson\n",
    " \n",
    "#Teste Qui-Quadrado\n",
    "Chi = chisquare(o,e,axis=None)\n",
    "print(\"Valor de Q computacional: {}\".format(Chi[0]))\n",
    "print(\"Valor de p-valor: {}\".format(Chi[1]))  \n",
    "if(Chi[1]<0.05): \n",
    "    print(\"Rejeita-se Hipotese Nula\")\n",
    "else:\n",
    "    print(\"P-valor {}>0.05 Nao rejeita hipotese nula!\".format(Chi[1]))\n",
    "    \n",
    "z = np.linspace(0,6,6)\n",
    "plt.plot(z,o,label='Frequências Observadas')\n",
    "plt.plot(z,e,label='Modelo de Poisson')\n",
    "plt.xlabel('ftv')\n",
    "plt.legend(loc='best')"
   ]
  },
  {
   "cell_type": "code",
   "execution_count": 12,
   "metadata": {},
   "outputs": [
    {
     "data": {
      "text/plain": [
       "<matplotlib.legend.Legend at 0x214b9a337b8>"
      ]
     },
     "execution_count": 12,
     "metadata": {},
     "output_type": "execute_result"
    },
    {
     "data": {
      "image/png": "[encoded data removed]",
      "text/plain": [
       "<Figure size 432x288 with 1 Axes>"
      ]
     },
     "metadata": {},
     "output_type": "display_data"
    }
   ],
   "source": [
    "plt.bar(z,e,label='Poisson')\n",
    "plt.xlabel('ftv')\n",
    "plt.legend(loc='best')"
   ]
  },
  {
   "cell_type": "code",
   "execution_count": 57,
   "metadata": {},
   "outputs": [
    {
     "name": "stdout",
     "output_type": "stream",
     "text": [
      "Média:  129.8148148148148\n",
      "Mediana:  121.0\n",
      "Desvio Padrão:  30.579380352748768\n"
     ]
    },
    {
     "name": "stderr",
     "output_type": "stream",
     "text": [
      "C:\\ProgramData\\Anaconda3\\lib\\site-packages\\matplotlib\\axes\\_axes.py:6462: UserWarning: The 'normed' kwarg is deprecated, and has been replaced by the 'density' kwarg.\n",
      "  warnings.warn(\"The 'normed' kwarg is deprecated, and has been \"\n"
     ]
    },
    {
     "data": {
      "text/plain": [
       "<matplotlib.axes._subplots.AxesSubplot at 0x214bb40f160>"
      ]
     },
     "execution_count": 57,
     "metadata": {},
     "output_type": "execute_result"
    },
    {
     "data": {
      "image/png": "[encoded data removed]",
      "text/plain": [
       "<Figure size 432x288 with 1 Axes>"
      ]
     },
     "metadata": {},
     "output_type": "display_data"
    }
   ],
   "source": [
    "# 3)\n",
    "#Variável #lwt\n",
    "print('Média: ',lowbw['lwt'].mean())\n",
    "print('Mediana: ',lowbw['lwt'].median())\n",
    "print('Desvio Padrão: ',lowbw['lwt'].std())\n",
    "sns.distplot(lowbw['lwt'])"
   ]
  },
  {
   "cell_type": "code",
   "execution_count": 14,
   "metadata": {},
   "outputs": [
    {
     "name": "stdout",
     "output_type": "stream",
     "text": [
      "Média:  2944.6560846560847\n",
      "Mediana:  2977.0\n",
      "Desvio Padrão:  729.0224168601321\n"
     ]
    },
    {
     "name": "stderr",
     "output_type": "stream",
     "text": [
      "C:\\ProgramData\\Anaconda3\\lib\\site-packages\\matplotlib\\axes\\_axes.py:6462: UserWarning: The 'normed' kwarg is deprecated, and has been replaced by the 'density' kwarg.\n",
      "  warnings.warn(\"The 'normed' kwarg is deprecated, and has been \"\n"
     ]
    },
    {
     "data": {
      "text/plain": [
       "<matplotlib.axes._subplots.AxesSubplot at 0x214b9bdfa20>"
      ]
     },
     "execution_count": 14,
     "metadata": {},
     "output_type": "execute_result"
    },
    {
     "data": {
      "image/png": "[encoded data removed]",
      "text/plain": [
       "<Figure size 432x288 with 1 Axes>"
      ]
     },
     "metadata": {},
     "output_type": "display_data"
    }
   ],
   "source": [
    "#Variável #bwt\n",
    "print('Média: ',lowbw['bwt'].mean())\n",
    "print('Mediana: ',lowbw['bwt'].median())\n",
    "print('Desvio Padrão: ',lowbw['bwt'].std())\n",
    "sns.distplot(lowbw['bwt'])"
   ]
  },
  {
   "cell_type": "code",
   "execution_count": 15,
   "metadata": {},
   "outputs": [],
   "source": [
    "# Variável lwt é mais asssimétrica e apresenta uma dispersão menor do que a variável bwt"
   ]
  },
  {
   "cell_type": "code",
   "execution_count": 16,
   "metadata": {},
   "outputs": [
    {
     "name": "stderr",
     "output_type": "stream",
     "text": [
      "C:\\ProgramData\\Anaconda3\\lib\\site-packages\\ipykernel_launcher.py:12: MatplotlibDeprecationWarning: scipy.stats.norm.pdf\n",
      "  if sys.path[0] == '':\n",
      "C:\\ProgramData\\Anaconda3\\lib\\site-packages\\matplotlib\\axes\\_axes.py:6462: UserWarning: The 'normed' kwarg is deprecated, and has been replaced by the 'density' kwarg.\n",
      "  warnings.warn(\"The 'normed' kwarg is deprecated, and has been \"\n"
     ]
    },
    {
     "name": "stdout",
     "output_type": "stream",
     "text": [
      "(0.8933119177818298, 2.2419691103614525e-10)\n",
      "(0.1522529402257834, 1.583181900608058e-11)\n"
     ]
    },
    {
     "data": {
      "image/png": "[encoded data removed]",
      "text/plain": [
       "<Figure size 432x288 with 1 Axes>"
      ]
     },
     "metadata": {},
     "output_type": "display_data"
    }
   ],
   "source": [
    "# 4)\n",
    "#Variável lwt\n",
    "\n",
    "import matplotlib.mlab as mlab\n",
    "import math\n",
    "\n",
    "#Ajuste do modelo normal\n",
    "lwt = lowbw['lwt']\n",
    "mu = lwt.mean()\n",
    "sigma = lwt.std()\n",
    "x = np.linspace(mu - 3*sigma, mu + 3*sigma, 189)\n",
    "exp = mlab.normpdf(x, mu, sigma)\n",
    "plt.plot(x,exp,label='Modelo normal proposto')\n",
    "plt.legend(loc='best')\n",
    "sns.distplot(lwt,kde_kws={\"label\": \"Modelo original\"})\n",
    "\n",
    "# Teste de Aderência\n",
    "\n",
    "# Teste de Normalidade\n",
    "print(shapiro(lwt))\n",
    "print(sm.stats.lilliefors(lwt))"
   ]
  },
  {
   "cell_type": "code",
   "execution_count": 17,
   "metadata": {},
   "outputs": [],
   "source": [
    "# Nao pode ser ajustado pelo modelo normal"
   ]
  },
  {
   "cell_type": "code",
   "execution_count": 18,
   "metadata": {},
   "outputs": [
    {
     "name": "stderr",
     "output_type": "stream",
     "text": [
      "C:\\ProgramData\\Anaconda3\\lib\\site-packages\\ipykernel_launcher.py:11: MatplotlibDeprecationWarning: scipy.stats.norm.pdf\n",
      "  # This is added back by InteractiveShellApp.init_path()\n",
      "C:\\ProgramData\\Anaconda3\\lib\\site-packages\\matplotlib\\axes\\_axes.py:6462: UserWarning: The 'normed' kwarg is deprecated, and has been replaced by the 'density' kwarg.\n",
      "  warnings.warn(\"The 'normed' kwarg is deprecated, and has been \"\n"
     ]
    },
    {
     "name": "stdout",
     "output_type": "stream",
     "text": [
      "(0.9924667477607727, 0.4383845925331116)\n",
      "(0.043483750201105786, 0.2)\n"
     ]
    },
    {
     "data": {
      "image/png": "[encoded data removed]",
      "text/plain": [
       "<Figure size 432x288 with 1 Axes>"
      ]
     },
     "metadata": {},
     "output_type": "display_data"
    }
   ],
   "source": [
    "#Variável bwt\n",
    "\n",
    "import matplotlib.mlab as mlab\n",
    "import math\n",
    "\n",
    "#Ajuste do modelo normal\n",
    "bwt = lowbw['bwt']\n",
    "mu = bwt.mean()\n",
    "sigma = bwt.std()\n",
    "x = np.linspace(mu - 3*sigma, mu + 3*sigma, 189)\n",
    "exp = mlab.normpdf(x, mu, sigma)\n",
    "plt.plot(x,exp,label='Modelo normal proposto')\n",
    "sns.distplot(bwt,kde_kws={\"label\": \"Modelo original\"})\n",
    "plt.legend(loc='best')\n",
    "\n",
    "# Teste de Normalidade\n",
    "print(shapiro(bwt))\n",
    "print(sm.stats.lilliefors(bwt))"
   ]
  },
  {
   "cell_type": "code",
   "execution_count": 19,
   "metadata": {},
   "outputs": [],
   "source": [
    "# Pode ser ajustado pelo modelo normal"
   ]
  },
  {
   "cell_type": "code",
   "execution_count": 20,
   "metadata": {},
   "outputs": [],
   "source": [
    "# 2.2.2 Transformacoes e recodificacoes dos dados\n",
    "\n",
    "lowbw = pd.read_table(\"lowbw.txt\",delim_whitespace=True)\n",
    "# a)\n",
    "\n",
    "lwtkg = lowbw['lwt']*0.453\n",
    "lowbw['lwtkg'] = lwtkg"
   ]
  },
  {
   "cell_type": "code",
   "execution_count": 21,
   "metadata": {},
   "outputs": [],
   "source": [
    "# b)\n",
    "\n",
    "#race2 = np.chararray((189,1),10,unicode=True)\n",
    "race2 = np.zeros(189)\n",
    "for i in range(189):\n",
    "    if(lowbw['race'][i]=='White'):\n",
    "        race2[i] = \"0\"\n",
    "    elif(lowbw['race'][i]=='Black'):\n",
    "        race2[i] = \"1\"\n",
    "    elif(lowbw['race'][i]=='Other'):\n",
    "        race2[i] = \"1\"\n",
    "lowbw['race2'] = race2"
   ]
  },
  {
   "cell_type": "code",
   "execution_count": 22,
   "metadata": {},
   "outputs": [],
   "source": [
    "# c)\n",
    "\n",
    "ptl2 = np.zeros(189)\n",
    "for i in range(189):\n",
    "    if(lowbw['ptl'][i]==0):\n",
    "        ptl2[i] = 0\n",
    "    else:\n",
    "         ptl2[i] = 1\n",
    "lowbw['ptl2'] = ptl2"
   ]
  },
  {
   "cell_type": "code",
   "execution_count": 23,
   "metadata": {},
   "outputs": [],
   "source": [
    "# d)\n",
    "\n",
    "ftv2 = np.zeros(189)\n",
    "for i in range(189):\n",
    "    if(lowbw['ftv'][i]==0):\n",
    "        ftv2[i] = 0\n",
    "    else:\n",
    "         ftv2[i] = 1\n",
    "lowbw['ftv2'] = ftv2"
   ]
  },
  {
   "cell_type": "code",
   "execution_count": 24,
   "metadata": {},
   "outputs": [
    {
     "data": {
      "text/plain": [
       "<matplotlib.axes._subplots.AxesSubplot at 0x214ba03d6a0>"
      ]
     },
     "execution_count": 24,
     "metadata": {},
     "output_type": "execute_result"
    },
    {
     "data": {
      "image/png": "[encoded data removed]",
      "text/plain": [
       "<Figure size 432x288 with 1 Axes>"
      ]
     },
     "metadata": {},
     "output_type": "display_data"
    }
   ],
   "source": [
    "# 2.2.3 Análise usando bwt (variável quantitativa)\n",
    "\n",
    "# smoke\n",
    "\n",
    "sns.boxplot(x='smoke',y='bwt',hue='smoke',data=lowbw)"
   ]
  },
  {
   "cell_type": "code",
   "execution_count": 25,
   "metadata": {},
   "outputs": [
    {
     "data": {
      "text/plain": [
       "<matplotlib.axes._subplots.AxesSubplot at 0x214b9ef4d30>"
      ]
     },
     "execution_count": 25,
     "metadata": {},
     "output_type": "execute_result"
    },
    {
     "data": {
      "image/png": "[encoded data removed]",
      "text/plain": [
       "<Figure size 432x288 with 1 Axes>"
      ]
     },
     "metadata": {},
     "output_type": "display_data"
    }
   ],
   "source": [
    "# race2\n",
    "\n",
    "sns.boxplot(x='race2',y='bwt',hue='race2',data=lowbw)"
   ]
  },
  {
   "cell_type": "code",
   "execution_count": 26,
   "metadata": {},
   "outputs": [
    {
     "data": {
      "text/plain": [
       "<matplotlib.axes._subplots.AxesSubplot at 0x214b9fe2780>"
      ]
     },
     "execution_count": 26,
     "metadata": {},
     "output_type": "execute_result"
    },
    {
     "data": {
      "image/png": "[encoded data removed]",
      "text/plain": [
       "<Figure size 432x288 with 1 Axes>"
      ]
     },
     "metadata": {},
     "output_type": "display_data"
    }
   ],
   "source": [
    "# ptl2\n",
    "\n",
    "sns.boxplot(x='ptl2',y='bwt',hue='ptl2',data=lowbw)"
   ]
  },
  {
   "cell_type": "code",
   "execution_count": 27,
   "metadata": {},
   "outputs": [
    {
     "data": {
      "text/plain": [
       "<matplotlib.axes._subplots.AxesSubplot at 0x214b9e23ef0>"
      ]
     },
     "execution_count": 27,
     "metadata": {},
     "output_type": "execute_result"
    },
    {
     "data": {
      "image/png": "[encoded data removed]",
      "text/plain": [
       "<Figure size 432x288 with 1 Axes>"
      ]
     },
     "metadata": {},
     "output_type": "display_data"
    }
   ],
   "source": [
    "# ht\n",
    "\n",
    "sns.boxplot(x='ht',y='bwt',hue='ht',data=lowbw)"
   ]
  },
  {
   "cell_type": "code",
   "execution_count": 28,
   "metadata": {},
   "outputs": [
    {
     "data": {
      "text/plain": [
       "<matplotlib.axes._subplots.AxesSubplot at 0x214b9f13518>"
      ]
     },
     "execution_count": 28,
     "metadata": {},
     "output_type": "execute_result"
    },
    {
     "data": {
      "image/png": "[encoded data removed]",
      "text/plain": [
       "<Figure size 432x288 with 1 Axes>"
      ]
     },
     "metadata": {},
     "output_type": "display_data"
    }
   ],
   "source": [
    "# ui\n",
    "\n",
    "sns.boxplot(x='ui',y='bwt',hue='ui',data=lowbw)"
   ]
  },
  {
   "cell_type": "code",
   "execution_count": 29,
   "metadata": {},
   "outputs": [
    {
     "data": {
      "text/plain": [
       "<matplotlib.axes._subplots.AxesSubplot at 0x214b9f83e10>"
      ]
     },
     "execution_count": 29,
     "metadata": {},
     "output_type": "execute_result"
    },
    {
     "data": {
      "image/png": "[encoded data removed]",
      "text/plain": [
       "<Figure size 432x288 with 1 Axes>"
      ]
     },
     "metadata": {},
     "output_type": "display_data"
    }
   ],
   "source": [
    "# ftv2\n",
    "\n",
    "sns.boxplot(x='ftv2',y='bwt',hue='ftv2',data=lowbw)"
   ]
  },
  {
   "cell_type": "code",
   "execution_count": 30,
   "metadata": {},
   "outputs": [],
   "source": [
    "# Os resultados fazem sentido, pois mostram como o comportamento da mãe durante a gravidez afeta o peso do bebê ao nascer."
   ]
  },
  {
   "cell_type": "code",
   "execution_count": 31,
   "metadata": {},
   "outputs": [
    {
     "name": "stdout",
     "output_type": "stream",
     "text": [
      "Há diferença de média significativa\n",
      "(-2.6336039163601987, 0.008448397870304207)\n"
     ]
    }
   ],
   "source": [
    "# Diferença de Médias\n",
    "\n",
    "# Variável smoke\n",
    "\n",
    "fuma = lowbw[lowbw['smoke']=='Yes']['bwt']\n",
    "nao_fuma = lowbw[lowbw['smoke']=='No']['bwt']\n",
    "z = ztest(fuma,nao_fuma)\n",
    "if(z[1]<0.05):\n",
    "    print('Há diferença de média significativa')\n",
    "else:\n",
    "    print('Não rejeita-se hipótese nula')\n",
    "print(z)"
   ]
  },
  {
   "cell_type": "code",
   "execution_count": 32,
   "metadata": {},
   "outputs": [
    {
     "name": "stdout",
     "output_type": "stream",
     "text": [
      "Há diferença de média significativa\n",
      "(3.0576310890919585, 0.002230940389694913)\n"
     ]
    }
   ],
   "source": [
    "# Variável ptl2\n",
    "\n",
    "ptl = lowbw[lowbw['ptl2']==0]['bwt']\n",
    "ptl1 = lowbw[lowbw['ptl2']==1]['bwt']\n",
    "z = ztest(ptl,ptl1)\n",
    "if(z[1]<0.05):\n",
    "    print('Há diferença de média significativa')\n",
    "else:\n",
    "    print('Não rejeita-se hipótese nula')\n",
    "print(z)"
   ]
  },
  {
   "cell_type": "code",
   "execution_count": 33,
   "metadata": {},
   "outputs": [
    {
     "name": "stdout",
     "output_type": "stream",
     "text": [
      "Há diferença de média significativa\n",
      "(3.1178537944619165, 0.0018217315060564201)\n"
     ]
    }
   ],
   "source": [
    "# Variável race2\n",
    "\n",
    "branca = lowbw[lowbw['race2']==0]['bwt']\n",
    "nao_branca = lowbw[lowbw['race2']==1]['bwt']\n",
    "z = ztest(branca,nao_branca)\n",
    "if(z[1]<0.05):\n",
    "    print('Há diferença de média significativa')\n",
    "else:\n",
    "    print('Não rejeita-se hipótese nula')\n",
    "print(z)"
   ]
  },
  {
   "cell_type": "code",
   "execution_count": 34,
   "metadata": {},
   "outputs": [
    {
     "name": "stdout",
     "output_type": "stream",
     "text": [
      "Há diferença de média significativa\n",
      "(2.0192015645095878, 0.04346627379021054)\n"
     ]
    }
   ],
   "source": [
    "# Variável ht\n",
    "\n",
    "ht = lowbw[lowbw['ht']==0]['bwt']\n",
    "ht1 = lowbw[lowbw['ht']==1]['bwt']\n",
    "z = ztest(ht,ht1)\n",
    "if(z[1]<0.05):\n",
    "    print('Há diferença de média significativa')\n",
    "else:\n",
    "    print('Não rejeita-se hipótese nula')\n",
    "print(z)"
   ]
  },
  {
   "cell_type": "code",
   "execution_count": 35,
   "metadata": {},
   "outputs": [
    {
     "name": "stdout",
     "output_type": "stream",
     "text": [
      "Há diferença de média significativa\n",
      "(4.04217005878041, 5.2958800963028457e-05)\n"
     ]
    }
   ],
   "source": [
    "# Variável ui\n",
    "\n",
    "ui = lowbw[lowbw['ui']==0]['bwt']\n",
    "ui1 = lowbw[lowbw['ui']==1]['bwt']\n",
    "z = ztest(ui,ui1)\n",
    "if(z[1]<0.05):\n",
    "    print('Há diferença de média significativa')\n",
    "else:\n",
    "    print('Não rejeita-se hipótese nula')\n",
    "print(z)"
   ]
  },
  {
   "cell_type": "code",
   "execution_count": 36,
   "metadata": {},
   "outputs": [
    {
     "name": "stdout",
     "output_type": "stream",
     "text": [
      "Não rejeita-se hipótese nula\n",
      "(-1.8499356863868104, 0.06432281964759183)\n"
     ]
    }
   ],
   "source": [
    "# Variável ftv2\n",
    "\n",
    "ftv = lowbw[lowbw['ftv']==0]['bwt']\n",
    "ftv1 = lowbw[lowbw['ftv']==1]['bwt']\n",
    "z = ztest(ftv,ftv1)\n",
    "if(z[1]<0.05):\n",
    "    print('Há diferença de média significativa')\n",
    "else:\n",
    "    print('Não rejeita-se hipótese nula')\n",
    "print(z)"
   ]
  },
  {
   "cell_type": "code",
   "execution_count": 37,
   "metadata": {},
   "outputs": [],
   "source": [
    "# As variáveis ui(irritabilidade da urina) e raça apresentaram maior diferença"
   ]
  },
  {
   "cell_type": "code",
   "execution_count": 60,
   "metadata": {},
   "outputs": [
    {
     "data": {
      "text/plain": [
       "<matplotlib.axes._subplots.AxesSubplot at 0x214bb471c88>"
      ]
     },
     "execution_count": 60,
     "metadata": {},
     "output_type": "execute_result"
    },
    {
     "data": {
      "image/png": "[encoded data removed]",
      "text/plain": [
       "<Figure size 864x432 with 2 Axes>"
      ]
     },
     "metadata": {},
     "output_type": "display_data"
    }
   ],
   "source": [
    "# 2.2.4 Análisando usando low\n",
    "\n",
    "# Correlaçoes\n",
    "plt.figure(figsize=(12,6))\n",
    "sns.heatmap(lowbw.corr(),cmap='magma',linecolor='white',linewidths=1,annot=True)"
   ]
  },
  {
   "cell_type": "code",
   "execution_count": 39,
   "metadata": {},
   "outputs": [
    {
     "data": {
      "text/html": [
       "<div>\n",
       "<style scoped>\n",
       "    .dataframe tbody tr th:only-of-type {\n",
       "        vertical-align: middle;\n",
       "    }\n",
       "\n",
       "    .dataframe tbody tr th {\n",
       "        vertical-align: top;\n",
       "    }\n",
       "\n",
       "    .dataframe thead th {\n",
       "        text-align: right;\n",
       "    }\n",
       "</style>\n",
       "<table border=\"1\" class=\"dataframe\">\n",
       "  <thead>\n",
       "    <tr style=\"text-align: right;\">\n",
       "      <th></th>\n",
       "      <th>id</th>\n",
       "      <th>age</th>\n",
       "      <th>lwt</th>\n",
       "      <th>ptl</th>\n",
       "      <th>ht</th>\n",
       "      <th>ui</th>\n",
       "      <th>ftv</th>\n",
       "      <th>bwt</th>\n",
       "      <th>lwtkg</th>\n",
       "      <th>race2</th>\n",
       "      <th>ptl2</th>\n",
       "      <th>ftv2</th>\n",
       "    </tr>\n",
       "  </thead>\n",
       "  <tbody>\n",
       "    <tr>\n",
       "      <th>id</th>\n",
       "      <td>1.000000</td>\n",
       "      <td>0.095043</td>\n",
       "      <td>0.215655</td>\n",
       "      <td>-0.151574</td>\n",
       "      <td>-0.112021</td>\n",
       "      <td>-0.269924</td>\n",
       "      <td>0.054185</td>\n",
       "      <td>0.981266</td>\n",
       "      <td>0.215655</td>\n",
       "      <td>-0.208425</td>\n",
       "      <td>-0.217723</td>\n",
       "      <td>0.102739</td>\n",
       "    </tr>\n",
       "    <tr>\n",
       "      <th>age</th>\n",
       "      <td>0.095043</td>\n",
       "      <td>1.000000</td>\n",
       "      <td>0.180073</td>\n",
       "      <td>0.071606</td>\n",
       "      <td>-0.015837</td>\n",
       "      <td>-0.075156</td>\n",
       "      <td>0.215394</td>\n",
       "      <td>0.089866</td>\n",
       "      <td>0.180073</td>\n",
       "      <td>-0.202555</td>\n",
       "      <td>0.098243</td>\n",
       "      <td>0.258367</td>\n",
       "    </tr>\n",
       "    <tr>\n",
       "      <th>lwt</th>\n",
       "      <td>0.215655</td>\n",
       "      <td>0.180073</td>\n",
       "      <td>1.000000</td>\n",
       "      <td>-0.140029</td>\n",
       "      <td>0.236360</td>\n",
       "      <td>-0.152763</td>\n",
       "      <td>0.140527</td>\n",
       "      <td>0.185789</td>\n",
       "      <td>1.000000</td>\n",
       "      <td>-0.074531</td>\n",
       "      <td>-0.116050</td>\n",
       "      <td>0.055082</td>\n",
       "    </tr>\n",
       "    <tr>\n",
       "      <th>ptl</th>\n",
       "      <td>-0.151574</td>\n",
       "      <td>0.071606</td>\n",
       "      <td>-0.140029</td>\n",
       "      <td>1.000000</td>\n",
       "      <td>-0.015400</td>\n",
       "      <td>0.227585</td>\n",
       "      <td>-0.044430</td>\n",
       "      <td>-0.154732</td>\n",
       "      <td>-0.140029</td>\n",
       "      <td>-0.004438</td>\n",
       "      <td>0.915971</td>\n",
       "      <td>-0.009119</td>\n",
       "    </tr>\n",
       "    <tr>\n",
       "      <th>ht</th>\n",
       "      <td>-0.112021</td>\n",
       "      <td>-0.015837</td>\n",
       "      <td>0.236360</td>\n",
       "      <td>-0.015400</td>\n",
       "      <td>1.000000</td>\n",
       "      <td>-0.108585</td>\n",
       "      <td>-0.072373</td>\n",
       "      <td>-0.146075</td>\n",
       "      <td>0.236360</td>\n",
       "      <td>0.047535</td>\n",
       "      <td>0.005655</td>\n",
       "      <td>-0.071760</td>\n",
       "    </tr>\n",
       "    <tr>\n",
       "      <th>ui</th>\n",
       "      <td>-0.269924</td>\n",
       "      <td>-0.075156</td>\n",
       "      <td>-0.152763</td>\n",
       "      <td>0.227585</td>\n",
       "      <td>-0.108585</td>\n",
       "      <td>1.000000</td>\n",
       "      <td>-0.059523</td>\n",
       "      <td>-0.283468</td>\n",
       "      <td>-0.152763</td>\n",
       "      <td>0.036412</td>\n",
       "      <td>0.185674</td>\n",
       "      <td>-0.065202</td>\n",
       "    </tr>\n",
       "    <tr>\n",
       "      <th>ftv</th>\n",
       "      <td>0.054185</td>\n",
       "      <td>0.215394</td>\n",
       "      <td>0.140527</td>\n",
       "      <td>-0.044430</td>\n",
       "      <td>-0.072373</td>\n",
       "      <td>-0.059523</td>\n",
       "      <td>1.000000</td>\n",
       "      <td>0.058262</td>\n",
       "      <td>0.140527</td>\n",
       "      <td>-0.088250</td>\n",
       "      <td>-0.011095</td>\n",
       "      <td>0.796293</td>\n",
       "    </tr>\n",
       "    <tr>\n",
       "      <th>bwt</th>\n",
       "      <td>0.981266</td>\n",
       "      <td>0.089866</td>\n",
       "      <td>0.185789</td>\n",
       "      <td>-0.154732</td>\n",
       "      <td>-0.146075</td>\n",
       "      <td>-0.283468</td>\n",
       "      <td>0.058262</td>\n",
       "      <td>1.000000</td>\n",
       "      <td>0.185789</td>\n",
       "      <td>-0.222295</td>\n",
       "      <td>-0.218208</td>\n",
       "      <td>0.115734</td>\n",
       "    </tr>\n",
       "    <tr>\n",
       "      <th>lwtkg</th>\n",
       "      <td>0.215655</td>\n",
       "      <td>0.180073</td>\n",
       "      <td>1.000000</td>\n",
       "      <td>-0.140029</td>\n",
       "      <td>0.236360</td>\n",
       "      <td>-0.152763</td>\n",
       "      <td>0.140527</td>\n",
       "      <td>0.185789</td>\n",
       "      <td>1.000000</td>\n",
       "      <td>-0.074531</td>\n",
       "      <td>-0.116050</td>\n",
       "      <td>0.055082</td>\n",
       "    </tr>\n",
       "    <tr>\n",
       "      <th>race2</th>\n",
       "      <td>-0.208425</td>\n",
       "      <td>-0.202555</td>\n",
       "      <td>-0.074531</td>\n",
       "      <td>-0.004438</td>\n",
       "      <td>0.047535</td>\n",
       "      <td>0.036412</td>\n",
       "      <td>-0.088250</td>\n",
       "      <td>-0.222295</td>\n",
       "      <td>-0.074531</td>\n",
       "      <td>1.000000</td>\n",
       "      <td>0.035857</td>\n",
       "      <td>-0.165246</td>\n",
       "    </tr>\n",
       "    <tr>\n",
       "      <th>ptl2</th>\n",
       "      <td>-0.217723</td>\n",
       "      <td>0.098243</td>\n",
       "      <td>-0.116050</td>\n",
       "      <td>0.915971</td>\n",
       "      <td>0.005655</td>\n",
       "      <td>0.185674</td>\n",
       "      <td>-0.011095</td>\n",
       "      <td>-0.218208</td>\n",
       "      <td>-0.116050</td>\n",
       "      <td>0.035857</td>\n",
       "      <td>1.000000</td>\n",
       "      <td>0.025324</td>\n",
       "    </tr>\n",
       "    <tr>\n",
       "      <th>ftv2</th>\n",
       "      <td>0.102739</td>\n",
       "      <td>0.258367</td>\n",
       "      <td>0.055082</td>\n",
       "      <td>-0.009119</td>\n",
       "      <td>-0.071760</td>\n",
       "      <td>-0.065202</td>\n",
       "      <td>0.796293</td>\n",
       "      <td>0.115734</td>\n",
       "      <td>0.055082</td>\n",
       "      <td>-0.165246</td>\n",
       "      <td>0.025324</td>\n",
       "      <td>1.000000</td>\n",
       "    </tr>\n",
       "  </tbody>\n",
       "</table>\n",
       "</div>"
      ],
      "text/plain": [
       "             id       age       lwt       ptl        ht        ui       ftv  \\\n",
       "id     1.000000  0.095043  0.215655 -0.151574 -0.112021 -0.269924  0.054185   \n",
       "age    0.095043  1.000000  0.180073  0.071606 -0.015837 -0.075156  0.215394   \n",
       "lwt    0.215655  0.180073  1.000000 -0.140029  0.236360 -0.152763  0.140527   \n",
       "ptl   -0.151574  0.071606 -0.140029  1.000000 -0.015400  0.227585 -0.044430   \n",
       "ht    -0.112021 -0.015837  0.236360 -0.015400  1.000000 -0.108585 -0.072373   \n",
       "ui    -0.269924 -0.075156 -0.152763  0.227585 -0.108585  1.000000 -0.059523   \n",
       "ftv    0.054185  0.215394  0.140527 -0.044430 -0.072373 -0.059523  1.000000   \n",
       "bwt    0.981266  0.089866  0.185789 -0.154732 -0.146075 -0.283468  0.058262   \n",
       "lwtkg  0.215655  0.180073  1.000000 -0.140029  0.236360 -0.152763  0.140527   \n",
       "race2 -0.208425 -0.202555 -0.074531 -0.004438  0.047535  0.036412 -0.088250   \n",
       "ptl2  -0.217723  0.098243 -0.116050  0.915971  0.005655  0.185674 -0.011095   \n",
       "ftv2   0.102739  0.258367  0.055082 -0.009119 -0.071760 -0.065202  0.796293   \n",
       "\n",
       "            bwt     lwtkg     race2      ptl2      ftv2  \n",
       "id     0.981266  0.215655 -0.208425 -0.217723  0.102739  \n",
       "age    0.089866  0.180073 -0.202555  0.098243  0.258367  \n",
       "lwt    0.185789  1.000000 -0.074531 -0.116050  0.055082  \n",
       "ptl   -0.154732 -0.140029 -0.004438  0.915971 -0.009119  \n",
       "ht    -0.146075  0.236360  0.047535  0.005655 -0.071760  \n",
       "ui    -0.283468 -0.152763  0.036412  0.185674 -0.065202  \n",
       "ftv    0.058262  0.140527 -0.088250 -0.011095  0.796293  \n",
       "bwt    1.000000  0.185789 -0.222295 -0.218208  0.115734  \n",
       "lwtkg  0.185789  1.000000 -0.074531 -0.116050  0.055082  \n",
       "race2 -0.222295 -0.074531  1.000000  0.035857 -0.165246  \n",
       "ptl2  -0.218208 -0.116050  0.035857  1.000000  0.025324  \n",
       "ftv2   0.115734  0.055082 -0.165246  0.025324  1.000000  "
      ]
     },
     "execution_count": 39,
     "metadata": {},
     "output_type": "execute_result"
    }
   ],
   "source": [
    "lowbw.corr()"
   ]
  },
  {
   "cell_type": "code",
   "execution_count": 40,
   "metadata": {},
   "outputs": [],
   "source": [
    "# Tabelas\n",
    "\n",
    "from tabulate import tabulate\n",
    "\n",
    "fuma_normal = (lowbw[lowbw['low']=='Normal']['smoke']=='Yes')\n",
    "headers = ['Peso','Fuma','Não Fuma']"
   ]
  },
  {
   "cell_type": "code",
   "execution_count": 41,
   "metadata": {},
   "outputs": [
    {
     "name": "stdout",
     "output_type": "stream",
     "text": [
      "smoke    No  Yes  All\n",
      "low                  \n",
      "Low      29   30   59\n",
      "Normal   86   44  130\n",
      "All     115   74  189\n"
     ]
    },
    {
     "data": {
      "text/plain": [
       "(4.923705434361292,\n",
       " 0.29521575885389484,\n",
       " 4,\n",
       " array([[ 35.8994709,  23.1005291,  59.       ],\n",
       "        [ 79.1005291,  50.8994709, 130.       ],\n",
       "        [115.       ,  74.       , 189.       ]]))"
      ]
     },
     "execution_count": 41,
     "metadata": {},
     "output_type": "execute_result"
    }
   ],
   "source": [
    "smoke = pd.crosstab(lowbw['low'],lowbw['smoke'],margins=True)\n",
    "print(smoke)\n",
    "chi2_contingency(smoke)"
   ]
  },
  {
   "cell_type": "code",
   "execution_count": 43,
   "metadata": {},
   "outputs": [
    {
     "name": "stdout",
     "output_type": "stream",
     "text": [
      "ptl2    0.0  1.0  All\n",
      "low                  \n",
      "Low      41   18   59\n",
      "Normal  118   12  130\n",
      "All     159   30  189\n"
     ]
    },
    {
     "data": {
      "text/plain": [
       "(13.759047501906473,\n",
       " 0.008105144571700773,\n",
       " 4,\n",
       " array([[ 49.63492063,   9.36507937,  59.        ],\n",
       "        [109.36507937,  20.63492063, 130.        ],\n",
       "        [159.        ,  30.        , 189.        ]]))"
      ]
     },
     "execution_count": 43,
     "metadata": {},
     "output_type": "execute_result"
    }
   ],
   "source": [
    "ptL = pd.crosstab(lowbw['low'],lowbw['ptl2'],margins=True)\n",
    "print(ptL)\n",
    "chi2_contingency(ptL)"
   ]
  },
  {
   "cell_type": "code",
   "execution_count": 59,
   "metadata": {},
   "outputs": [
    {
     "data": {
      "text/html": [
       "<div>\n",
       "<style scoped>\n",
       "    .dataframe tbody tr th:only-of-type {\n",
       "        vertical-align: middle;\n",
       "    }\n",
       "\n",
       "    .dataframe tbody tr th {\n",
       "        vertical-align: top;\n",
       "    }\n",
       "\n",
       "    .dataframe thead th {\n",
       "        text-align: right;\n",
       "    }\n",
       "</style>\n",
       "<table border=\"1\" class=\"dataframe\">\n",
       "  <thead>\n",
       "    <tr style=\"text-align: right;\">\n",
       "      <th>ptl2</th>\n",
       "      <th>0.0</th>\n",
       "      <th>1.0</th>\n",
       "      <th>All</th>\n",
       "    </tr>\n",
       "    <tr>\n",
       "      <th>low</th>\n",
       "      <th></th>\n",
       "      <th></th>\n",
       "      <th></th>\n",
       "    </tr>\n",
       "  </thead>\n",
       "  <tbody>\n",
       "    <tr>\n",
       "      <th>Low</th>\n",
       "      <td>41</td>\n",
       "      <td>18</td>\n",
       "      <td>59</td>\n",
       "    </tr>\n",
       "    <tr>\n",
       "      <th>Normal</th>\n",
       "      <td>118</td>\n",
       "      <td>12</td>\n",
       "      <td>130</td>\n",
       "    </tr>\n",
       "    <tr>\n",
       "      <th>All</th>\n",
       "      <td>159</td>\n",
       "      <td>30</td>\n",
       "      <td>189</td>\n",
       "    </tr>\n",
       "  </tbody>\n",
       "</table>\n",
       "</div>"
      ],
      "text/plain": [
       "ptl2    0.0  1.0  All\n",
       "low                  \n",
       "Low      41   18   59\n",
       "Normal  118   12  130\n",
       "All     159   30  189"
      ]
     },
     "execution_count": 59,
     "metadata": {},
     "output_type": "execute_result"
    }
   ],
   "source": [
    "ptL"
   ]
  },
  {
   "cell_type": "code",
   "execution_count": 44,
   "metadata": {},
   "outputs": [
    {
     "name": "stdout",
     "output_type": "stream",
     "text": [
      "race2   0.0  1.0  All\n",
      "low                  \n",
      "Low      23   36   59\n",
      "Normal   73   57  130\n",
      "All      96   93  189\n"
     ]
    },
    {
     "data": {
      "text/plain": [
       "(4.787224655128904,\n",
       " 0.30983437757816557,\n",
       " 4,\n",
       " array([[ 29.96825397,  29.03174603,  59.        ],\n",
       "        [ 66.03174603,  63.96825397, 130.        ],\n",
       "        [ 96.        ,  93.        , 189.        ]]))"
      ]
     },
     "execution_count": 44,
     "metadata": {},
     "output_type": "execute_result"
    }
   ],
   "source": [
    "Race = pd.crosstab(lowbw['low'],lowbw['race2'],margins=True)\n",
    "print(Race)\n",
    "chi2_contingency(Race)"
   ]
  },
  {
   "cell_type": "code",
   "execution_count": 45,
   "metadata": {},
   "outputs": [
    {
     "name": "stdout",
     "output_type": "stream",
     "text": [
      "ui        0   1  All\n",
      "low                 \n",
      "Low      45  14   59\n",
      "Normal  116  14  130\n",
      "All     161  28  189\n"
     ]
    },
    {
     "data": {
      "text/plain": [
       "(5.400765262740208,\n",
       " 0.24859097516904627,\n",
       " 4,\n",
       " array([[ 50.25925926,   8.74074074,  59.        ],\n",
       "        [110.74074074,  19.25925926, 130.        ],\n",
       "        [161.        ,  28.        , 189.        ]]))"
      ]
     },
     "execution_count": 45,
     "metadata": {},
     "output_type": "execute_result"
    }
   ],
   "source": [
    "Ui = pd.crosstab(lowbw['low'],lowbw['ui'],margins=True)\n",
    "print(Ui)\n",
    "chi2_contingency(Ui)"
   ]
  },
  {
   "cell_type": "code",
   "execution_count": 58,
   "metadata": {},
   "outputs": [
    {
     "data": {
      "text/html": [
       "<div>\n",
       "<style scoped>\n",
       "    .dataframe tbody tr th:only-of-type {\n",
       "        vertical-align: middle;\n",
       "    }\n",
       "\n",
       "    .dataframe tbody tr th {\n",
       "        vertical-align: top;\n",
       "    }\n",
       "\n",
       "    .dataframe thead th {\n",
       "        text-align: right;\n",
       "    }\n",
       "</style>\n",
       "<table border=\"1\" class=\"dataframe\">\n",
       "  <thead>\n",
       "    <tr style=\"text-align: right;\">\n",
       "      <th>ui</th>\n",
       "      <th>0</th>\n",
       "      <th>1</th>\n",
       "      <th>All</th>\n",
       "    </tr>\n",
       "    <tr>\n",
       "      <th>low</th>\n",
       "      <th></th>\n",
       "      <th></th>\n",
       "      <th></th>\n",
       "    </tr>\n",
       "  </thead>\n",
       "  <tbody>\n",
       "    <tr>\n",
       "      <th>Low</th>\n",
       "      <td>45</td>\n",
       "      <td>14</td>\n",
       "      <td>59</td>\n",
       "    </tr>\n",
       "    <tr>\n",
       "      <th>Normal</th>\n",
       "      <td>116</td>\n",
       "      <td>14</td>\n",
       "      <td>130</td>\n",
       "    </tr>\n",
       "    <tr>\n",
       "      <th>All</th>\n",
       "      <td>161</td>\n",
       "      <td>28</td>\n",
       "      <td>189</td>\n",
       "    </tr>\n",
       "  </tbody>\n",
       "</table>\n",
       "</div>"
      ],
      "text/plain": [
       "ui        0   1  All\n",
       "low                 \n",
       "Low      45  14   59\n",
       "Normal  116  14  130\n",
       "All     161  28  189"
      ]
     },
     "execution_count": 58,
     "metadata": {},
     "output_type": "execute_result"
    }
   ],
   "source": [
    "Ui"
   ]
  },
  {
   "cell_type": "code",
   "execution_count": 46,
   "metadata": {},
   "outputs": [
    {
     "name": "stdout",
     "output_type": "stream",
     "text": [
      "ht        0   1  All\n",
      "low                 \n",
      "Low      52   7   59\n",
      "Normal  125   5  130\n",
      "All     177  12  189\n"
     ]
    },
    {
     "data": {
      "text/plain": [
       "(4.387954942213776,\n",
       " 0.3560406124064324,\n",
       " 4,\n",
       " array([[ 55.25396825,   3.74603175,  59.        ],\n",
       "        [121.74603175,   8.25396825, 130.        ],\n",
       "        [177.        ,  12.        , 189.        ]]))"
      ]
     },
     "execution_count": 46,
     "metadata": {},
     "output_type": "execute_result"
    }
   ],
   "source": [
    "Ht = pd.crosstab(lowbw['low'],lowbw['ht'],margins=True)\n",
    "print(Ht)\n",
    "chi2_contingency(Ht)"
   ]
  },
  {
   "cell_type": "code",
   "execution_count": 47,
   "metadata": {},
   "outputs": [
    {
     "name": "stdout",
     "output_type": "stream",
     "text": [
      "ftv2    0.0  1.0  All\n",
      "low                  \n",
      "Low      36   23   59\n",
      "Normal   64   66  130\n",
      "All     100   89  189\n"
     ]
    },
    {
     "data": {
      "text/plain": [
       "(2.2626287154095186,\n",
       " 0.6875810957471311,\n",
       " 4,\n",
       " array([[ 31.21693122,  27.78306878,  59.        ],\n",
       "        [ 68.78306878,  61.21693122, 130.        ],\n",
       "        [100.        ,  89.        , 189.        ]]))"
      ]
     },
     "execution_count": 47,
     "metadata": {},
     "output_type": "execute_result"
    }
   ],
   "source": [
    "Ftv = pd.crosstab(lowbw['low'],lowbw['ftv2'],margins=True)\n",
    "print(Ftv)\n",
    "chi2_contingency(Ftv)"
   ]
  },
  {
   "cell_type": "code",
   "execution_count": 48,
   "metadata": {},
   "outputs": [
    {
     "name": "stdout",
     "output_type": "stream",
     "text": [
      "(0.9872750043869019, 0.48643404245376587)\n",
      "(0.9769612550735474, 0.803802490234375)\n",
      "(0.975471556186676, 0.20706778764724731)\n",
      "LeveneResult(statistic=0.8503209044647247, pvalue=0.3583118484970428)\n",
      "LeveneResult(statistic=0.7711463610308392, pvalue=0.38217536365239446)\n",
      "LeveneResult(statistic=0.0010889282593893798, pvalue=0.9737163287239314)\n"
     ]
    }
   ],
   "source": [
    "# 2.2.5  Análise de Variância\n",
    "\n",
    "Race1 = lowbw[lowbw['race']=='White']['bwt']\n",
    "Race2 = lowbw[lowbw['race']=='Black']['bwt']\n",
    "Race3 = lowbw[lowbw['race']=='Other']['bwt']\n",
    "\n",
    "print(shapiro(Race1))\n",
    "print(shapiro(Race2))\n",
    "print(shapiro(Race3))\n",
    "\n",
    "print(levene(Race1,Race2))\n",
    "print(levene(Race2,Race3))\n",
    "print(levene(Race3,Race1))"
   ]
  },
  {
   "cell_type": "code",
   "execution_count": 49,
   "metadata": {},
   "outputs": [],
   "source": [
    "# Pode-se aplicar teste Anova, pois o mesmo será confiável"
   ]
  },
  {
   "cell_type": "code",
   "execution_count": 50,
   "metadata": {},
   "outputs": [
    {
     "data": {
      "text/plain": [
       "F_onewayResult(statistic=4.9718944104484235, pvalue=0.007879055861064493)"
      ]
     },
     "execution_count": 50,
     "metadata": {},
     "output_type": "execute_result"
    }
   ],
   "source": [
    "anova1 = f_oneway(Race1,Race2,Race3)\n",
    "anova1"
   ]
  },
  {
   "cell_type": "code",
   "execution_count": 51,
   "metadata": {},
   "outputs": [],
   "source": [
    "# Há diferenças significativas nas médias"
   ]
  },
  {
   "cell_type": "code",
   "execution_count": 52,
   "metadata": {},
   "outputs": [
    {
     "name": "stdout",
     "output_type": "stream",
     "text": [
      "Multiple Comparison of Means - Tukey HSD,FWER=0.05\n",
      "================================================\n",
      "group1 group2 meandiff   lower    upper   reject\n",
      "------------------------------------------------\n",
      "Black  Other  84.3226  -305.5271 474.1723 False \n",
      "Black  White  384.0473  11.0227  757.0719  True \n",
      "Other  White  299.7247   31.128  568.3213  True \n",
      "------------------------------------------------\n"
     ]
    }
   ],
   "source": [
    "from statsmodels.stats.multicomp import pairwise_tukeyhsd\n",
    "from statsmodels.stats.multicomp import MultiComparison\n",
    "\n",
    "mc = MultiComparison(lowbw['bwt'],lowbw['race'])\n",
    "mc_results = mc.tukeyhsd()\n",
    "print(mc_results)"
   ]
  },
  {
   "cell_type": "code",
   "execution_count": 53,
   "metadata": {},
   "outputs": [],
   "source": [
    "# Não há diferença tão significativa entre raças não brancas, porém há diferença significativa entre raça branca e não branca"
   ]
  },
  {
   "cell_type": "code",
   "execution_count": 54,
   "metadata": {},
   "outputs": [
    {
     "name": "stdout",
     "output_type": "stream",
     "text": [
      "LinregressResult(slope=9.777623639581746, intercept=2369.672062504214, rvalue=0.18578870880181367, pvalue=0.010480719288092102, stderr=3.7815113855038547)\n",
      "LinregressResult(slope=12.364331853776473, intercept=2657.3325634826124, rvalue=0.08986638934514724, pvalue=0.21878982951353368, stderr=10.020554693346558)\n"
     ]
    },
    {
     "data": {
      "image/png": "[encoded data removed]",
      "text/plain": [
       "<Figure size 360x360 with 1 Axes>"
      ]
     },
     "metadata": {},
     "output_type": "display_data"
    },
    {
     "data": {
      "image/png": "[encoded data removed]",
      "text/plain": [
       "<Figure size 360x360 with 1 Axes>"
      ]
     },
     "metadata": {},
     "output_type": "display_data"
    }
   ],
   "source": [
    "# 2.2.6 Correlação e Regressão\n",
    "\n",
    "# Variável lwtkg\n",
    "\n",
    "sns.lmplot('lwtkg','bwt',data=lowbw)\n",
    "LR = linregress(lowbw['lwtkg'],lowbw['bwt'])\n",
    "print(LR)\n",
    "# Variável age\n",
    "\n",
    "sns.lmplot('age','bwt',data=lowbw)\n",
    "LR2 = linregress(lowbw['age'],lowbw['bwt'])\n",
    "print(LR2)"
   ]
  },
  {
   "cell_type": "code",
   "execution_count": null,
   "metadata": {},
   "outputs": [],
   "source": []
  },
  {
   "cell_type": "code",
   "execution_count": null,
   "metadata": {},
   "outputs": [],
   "source": []
  }
 ],
 "metadata": {
  "kernelspec": {
   "display_name": "Python 3",
   "language": "python",
   "name": "python3"
  },
  "language_info": {
   "codemirror_mode": {
    "name": "ipython",
    "version": 3
   },
   "file_extension": ".py",
   "mimetype": "text/x-python",
   "name": "python",
   "nbconvert_exporter": "python",
   "pygments_lexer": "ipython3",
   "version": "3.7.1"
  }
 },
 "nbformat": 4,
 "nbformat_minor": 2
}
